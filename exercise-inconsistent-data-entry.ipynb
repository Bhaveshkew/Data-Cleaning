{
 "cells": [
  {
   "cell_type": "markdown",
   "id": "reflected-guide",
   "metadata": {
    "papermill": {
     "duration": 0.016406,
     "end_time": "2021-05-23T14:17:49.697957",
     "exception": false,
     "start_time": "2021-05-23T14:17:49.681551",
     "status": "completed"
    },
    "tags": []
   },
   "source": [
    "**This notebook is an exercise in the [Data Cleaning](https://www.kaggle.com/learn/data-cleaning) course.  You can reference the tutorial at [this link](https://www.kaggle.com/alexisbcook/inconsistent-data-entry).**\n",
    "\n",
    "---\n"
   ]
  },
  {
   "cell_type": "markdown",
   "id": "expensive-intellectual",
   "metadata": {
    "papermill": {
     "duration": 0.014711,
     "end_time": "2021-05-23T14:17:49.727860",
     "exception": false,
     "start_time": "2021-05-23T14:17:49.713149",
     "status": "completed"
    },
    "tags": []
   },
   "source": [
    "In this exercise, you'll apply what you learned in the **Inconsistent data entry** tutorial.\n",
    "\n",
    "# Setup\n",
    "\n",
    "The questions below will give you feedback on your work. Run the following cell to set up the feedback system."
   ]
  },
  {
   "cell_type": "code",
   "execution_count": 1,
   "id": "serious-delivery",
   "metadata": {
    "execution": {
     "iopub.execute_input": "2021-05-23T14:17:49.761931Z",
     "iopub.status.busy": "2021-05-23T14:17:49.760773Z",
     "iopub.status.idle": "2021-05-23T14:17:49.868581Z",
     "shell.execute_reply": "2021-05-23T14:17:49.867744Z",
     "shell.execute_reply.started": "2021-05-23T14:07:11.036937Z"
    },
    "papermill": {
     "duration": 0.125823,
     "end_time": "2021-05-23T14:17:49.868852",
     "exception": false,
     "start_time": "2021-05-23T14:17:49.743029",
     "status": "completed"
    },
    "tags": []
   },
   "outputs": [
    {
     "name": "stdout",
     "output_type": "stream",
     "text": [
      "Setup Complete\n"
     ]
    }
   ],
   "source": [
    "from learntools.core import binder\n",
    "binder.bind(globals())\n",
    "from learntools.data_cleaning.ex5 import *\n",
    "print(\"Setup Complete\")"
   ]
  },
  {
   "cell_type": "markdown",
   "id": "micro-vampire",
   "metadata": {
    "papermill": {
     "duration": 0.014785,
     "end_time": "2021-05-23T14:17:49.901205",
     "exception": false,
     "start_time": "2021-05-23T14:17:49.886420",
     "status": "completed"
    },
    "tags": []
   },
   "source": [
    "# Get our environment set up\n",
    "\n",
    "The first thing we'll need to do is load in the libraries and dataset we'll be using.  We use the same dataset from the tutorial."
   ]
  },
  {
   "cell_type": "code",
   "execution_count": 2,
   "id": "democratic-omaha",
   "metadata": {
    "execution": {
     "iopub.execute_input": "2021-05-23T14:17:49.937677Z",
     "iopub.status.busy": "2021-05-23T14:17:49.936984Z",
     "iopub.status.idle": "2021-05-23T14:17:49.950762Z",
     "shell.execute_reply": "2021-05-23T14:17:49.950082Z",
     "shell.execute_reply.started": "2021-05-23T14:07:11.157959Z"
    },
    "papermill": {
     "duration": 0.034521,
     "end_time": "2021-05-23T14:17:49.950910",
     "exception": false,
     "start_time": "2021-05-23T14:17:49.916389",
     "status": "completed"
    },
    "tags": []
   },
   "outputs": [],
   "source": [
    "# modules we'll use\n",
    "import pandas as pd\n",
    "import numpy as np\n",
    "\n",
    "# helpful modules\n",
    "import fuzzywuzzy\n",
    "from fuzzywuzzy import process\n",
    "import chardet\n",
    "\n",
    "# read in all our data\n",
    "professors = pd.read_csv(\"../input/pakistan-intellectual-capital/pakistan_intellectual_capital.csv\")\n",
    "\n",
    "# set seed for reproducibility\n",
    "np.random.seed(0)"
   ]
  },
  {
   "cell_type": "markdown",
   "id": "corrected-gnome",
   "metadata": {
    "papermill": {
     "duration": 0.016093,
     "end_time": "2021-05-23T14:17:49.982296",
     "exception": false,
     "start_time": "2021-05-23T14:17:49.966203",
     "status": "completed"
    },
    "tags": []
   },
   "source": [
    "Next, we'll redo all of the work that we did in the tutorial."
   ]
  },
  {
   "cell_type": "code",
   "execution_count": 3,
   "id": "running-nudist",
   "metadata": {
    "execution": {
     "iopub.execute_input": "2021-05-23T14:17:50.015865Z",
     "iopub.status.busy": "2021-05-23T14:17:50.015176Z",
     "iopub.status.idle": "2021-05-23T14:17:50.030855Z",
     "shell.execute_reply": "2021-05-23T14:17:50.030174Z",
     "shell.execute_reply.started": "2021-05-23T14:07:27.845370Z"
    },
    "papermill": {
     "duration": 0.033617,
     "end_time": "2021-05-23T14:17:50.030994",
     "exception": false,
     "start_time": "2021-05-23T14:17:49.997377",
     "status": "completed"
    },
    "tags": []
   },
   "outputs": [
    {
     "name": "stdout",
     "output_type": "stream",
     "text": [
      "All done!\n"
     ]
    }
   ],
   "source": [
    "# convert to lower case\n",
    "professors['Country'] = professors['Country'].str.lower()\n",
    "# remove trailing white spaces\n",
    "professors['Country'] = professors['Country'].str.strip()\n",
    "\n",
    "# get the top 10 closest matches to \"south korea\"\n",
    "countries = professors['Country'].unique()\n",
    "matches = fuzzywuzzy.process.extract(\"south korea\", countries, limit=10, scorer=fuzzywuzzy.fuzz.token_sort_ratio)\n",
    "\n",
    "def replace_matches_in_column(df, column, string_to_match, min_ratio = 47):\n",
    "    # get a list of unique strings\n",
    "    strings = df[column].unique()\n",
    "    \n",
    "    # get the top 10 closest matches to our input string\n",
    "    matches = fuzzywuzzy.process.extract(string_to_match, strings, \n",
    "                                         limit=10, scorer=fuzzywuzzy.fuzz.token_sort_ratio)\n",
    "\n",
    "    # only get matches with a ratio > 90\n",
    "    close_matches = [matches[0] for matches in matches if matches[1] >= min_ratio]\n",
    "\n",
    "    # get the rows of all the close matches in our dataframe\n",
    "    rows_with_matches = df[column].isin(close_matches)\n",
    "\n",
    "    # replace all rows with close matches with the input matches \n",
    "    df.loc[rows_with_matches, column] = string_to_match\n",
    "    \n",
    "    # let us know the function's done\n",
    "    print(\"All done!\")\n",
    "    \n",
    "replace_matches_in_column(df=professors, column='Country', string_to_match=\"south korea\")\n",
    "countries = professors['Country'].unique()"
   ]
  },
  {
   "cell_type": "markdown",
   "id": "oriental-surface",
   "metadata": {
    "papermill": {
     "duration": 0.015005,
     "end_time": "2021-05-23T14:17:50.061495",
     "exception": false,
     "start_time": "2021-05-23T14:17:50.046490",
     "status": "completed"
    },
    "tags": []
   },
   "source": [
    "# 1) Examine another column\n",
    "\n",
    "Write code below to take a look at all the unique values in the \"Graduated from\" column."
   ]
  },
  {
   "cell_type": "code",
   "execution_count": 4,
   "id": "elementary-edition",
   "metadata": {
    "execution": {
     "iopub.execute_input": "2021-05-23T14:17:50.099390Z",
     "iopub.status.busy": "2021-05-23T14:17:50.098727Z",
     "iopub.status.idle": "2021-05-23T14:17:50.101667Z",
     "shell.execute_reply": "2021-05-23T14:17:50.101072Z",
     "shell.execute_reply.started": "2021-05-23T14:09:48.371753Z"
    },
    "papermill": {
     "duration": 0.024929,
     "end_time": "2021-05-23T14:17:50.101826",
     "exception": false,
     "start_time": "2021-05-23T14:17:50.076897",
     "status": "completed"
    },
    "tags": []
   },
   "outputs": [],
   "source": [
    "# TODO: Your code here\n",
    "uniques=professors['Graduated from'].unique()\n",
    "uniques.sort()"
   ]
  },
  {
   "cell_type": "markdown",
   "id": "israeli-single",
   "metadata": {
    "papermill": {
     "duration": 0.015061,
     "end_time": "2021-05-23T14:17:50.132510",
     "exception": false,
     "start_time": "2021-05-23T14:17:50.117449",
     "status": "completed"
    },
    "tags": []
   },
   "source": [
    "Do you notice any inconsistencies in the data?  Can any of the inconsistencies in the data be fixed by removing white spaces at the beginning and end of cells?\n",
    "\n",
    "Once you have answered these questions, run the code cell below to get credit for your work."
   ]
  },
  {
   "cell_type": "code",
   "execution_count": 5,
   "id": "mexican-fight",
   "metadata": {
    "execution": {
     "iopub.execute_input": "2021-05-23T14:17:50.166496Z",
     "iopub.status.busy": "2021-05-23T14:17:50.165839Z",
     "iopub.status.idle": "2021-05-23T14:17:50.175342Z",
     "shell.execute_reply": "2021-05-23T14:17:50.175971Z",
     "shell.execute_reply.started": "2021-05-23T14:09:58.339527Z"
    },
    "papermill": {
     "duration": 0.028256,
     "end_time": "2021-05-23T14:17:50.176140",
     "exception": false,
     "start_time": "2021-05-23T14:17:50.147884",
     "status": "completed"
    },
    "tags": []
   },
   "outputs": [
    {
     "data": {
      "application/javascript": [
       "parent.postMessage({\"jupyterEvent\": \"custom.exercise_interaction\", \"data\": {\"outcomeType\": 1, \"valueTowardsCompletion\": 0.3333333333333333, \"interactionType\": 1, \"questionType\": 4, \"questionId\": \"1_ExamineProvince\", \"learnToolsVersion\": \"0.3.4\", \"failureMessage\": \"\", \"exceptionClass\": \"\", \"trace\": \"\"}}, \"*\")"
      ],
      "text/plain": [
       "<IPython.core.display.Javascript object>"
      ]
     },
     "metadata": {},
     "output_type": "display_data"
    },
    {
     "data": {
      "text/markdown": [
       "<span style=\"color:#33cc33\">Correct:</span> \n",
       "\n",
       "There are inconsistencies that can be fixed by removing white spaces at the beginning and end of cells.  For instance, \"University of Central Florida\" and \" University of Central Florida\" both appear in the column."
      ],
      "text/plain": [
       "Correct: \n",
       "\n",
       "There are inconsistencies that can be fixed by removing white spaces at the beginning and end of cells.  For instance, \"University of Central Florida\" and \" University of Central Florida\" both appear in the column."
      ]
     },
     "metadata": {},
     "output_type": "display_data"
    }
   ],
   "source": [
    "# Check your answer (Run this code cell to receive credit!)\n",
    "q1.check()"
   ]
  },
  {
   "cell_type": "code",
   "execution_count": 6,
   "id": "uniform-chassis",
   "metadata": {
    "execution": {
     "iopub.execute_input": "2021-05-23T14:17:50.212959Z",
     "iopub.status.busy": "2021-05-23T14:17:50.211976Z",
     "iopub.status.idle": "2021-05-23T14:17:50.221075Z",
     "shell.execute_reply": "2021-05-23T14:17:50.221573Z",
     "shell.execute_reply.started": "2021-05-23T14:08:32.101488Z"
    },
    "papermill": {
     "duration": 0.029172,
     "end_time": "2021-05-23T14:17:50.221800",
     "exception": false,
     "start_time": "2021-05-23T14:17:50.192628",
     "status": "completed"
    },
    "tags": []
   },
   "outputs": [
    {
     "data": {
      "application/javascript": [
       "parent.postMessage({\"jupyterEvent\": \"custom.exercise_interaction\", \"data\": {\"interactionType\": 2, \"questionType\": 4, \"questionId\": \"1_ExamineProvince\", \"learnToolsVersion\": \"0.3.4\", \"valueTowardsCompletion\": 0.0, \"failureMessage\": \"\", \"exceptionClass\": \"\", \"trace\": \"\", \"outcomeType\": 4}}, \"*\")"
      ],
      "text/plain": [
       "<IPython.core.display.Javascript object>"
      ]
     },
     "metadata": {},
     "output_type": "display_data"
    },
    {
     "data": {
      "text/markdown": [
       "<span style=\"color:#3366cc\">Hint:</span> Use `unis = professors['Graduated from'].unique()` to take a look at the unique values in the 'Graduated from' column. You may find it useful to sort the data before printing it."
      ],
      "text/plain": [
       "Hint: Use `unis = professors['Graduated from'].unique()` to take a look at the unique values in the 'Graduated from' column. You may find it useful to sort the data before printing it."
      ]
     },
     "metadata": {},
     "output_type": "display_data"
    }
   ],
   "source": [
    "# Line below will give you a hint\n",
    "q1.hint()"
   ]
  },
  {
   "cell_type": "markdown",
   "id": "bound-assist",
   "metadata": {
    "papermill": {
     "duration": 0.017016,
     "end_time": "2021-05-23T14:17:50.256395",
     "exception": false,
     "start_time": "2021-05-23T14:17:50.239379",
     "status": "completed"
    },
    "tags": []
   },
   "source": [
    "# 2) Do some text pre-processing\n",
    "\n",
    "Convert every entry in the \"Graduated from\" column in the `professors` DataFrame to remove white spaces at the beginning and end of cells."
   ]
  },
  {
   "cell_type": "code",
   "execution_count": 7,
   "id": "therapeutic-begin",
   "metadata": {
    "execution": {
     "iopub.execute_input": "2021-05-23T14:17:50.294746Z",
     "iopub.status.busy": "2021-05-23T14:17:50.293782Z",
     "iopub.status.idle": "2021-05-23T14:17:50.306199Z",
     "shell.execute_reply": "2021-05-23T14:17:50.306735Z",
     "shell.execute_reply.started": "2021-05-23T14:12:59.394703Z"
    },
    "papermill": {
     "duration": 0.033191,
     "end_time": "2021-05-23T14:17:50.306906",
     "exception": false,
     "start_time": "2021-05-23T14:17:50.273715",
     "status": "completed"
    },
    "tags": []
   },
   "outputs": [
    {
     "data": {
      "application/javascript": [
       "parent.postMessage({\"jupyterEvent\": \"custom.exercise_interaction\", \"data\": {\"outcomeType\": 1, \"valueTowardsCompletion\": 0.3333333333333333, \"interactionType\": 1, \"questionType\": 1, \"questionId\": \"2_TextProcessing\", \"learnToolsVersion\": \"0.3.4\", \"failureMessage\": \"\", \"exceptionClass\": \"\", \"trace\": \"\"}}, \"*\")"
      ],
      "text/plain": [
       "<IPython.core.display.Javascript object>"
      ]
     },
     "metadata": {},
     "output_type": "display_data"
    },
    {
     "data": {
      "text/markdown": [
       "<span style=\"color:#33cc33\">Correct</span>"
      ],
      "text/plain": [
       "Correct"
      ]
     },
     "metadata": {},
     "output_type": "display_data"
    }
   ],
   "source": [
    "# TODO: Your code here\n",
    "professors['Graduated from'] =professors['Graduated from'].str.strip()\n",
    "\n",
    "# Check your answer\n",
    "q2.check()"
   ]
  },
  {
   "cell_type": "code",
   "execution_count": 8,
   "id": "natural-intermediate",
   "metadata": {
    "execution": {
     "iopub.execute_input": "2021-05-23T14:17:50.349032Z",
     "iopub.status.busy": "2021-05-23T14:17:50.348310Z",
     "iopub.status.idle": "2021-05-23T14:17:50.355281Z",
     "shell.execute_reply": "2021-05-23T14:17:50.354781Z",
     "shell.execute_reply.started": "2021-05-23T14:11:48.907518Z"
    },
    "papermill": {
     "duration": 0.029987,
     "end_time": "2021-05-23T14:17:50.355423",
     "exception": false,
     "start_time": "2021-05-23T14:17:50.325436",
     "status": "completed"
    },
    "tags": []
   },
   "outputs": [
    {
     "data": {
      "application/javascript": [
       "parent.postMessage({\"jupyterEvent\": \"custom.exercise_interaction\", \"data\": {\"interactionType\": 2, \"questionType\": 1, \"questionId\": \"2_TextProcessing\", \"learnToolsVersion\": \"0.3.4\", \"valueTowardsCompletion\": 0.0, \"failureMessage\": \"\", \"exceptionClass\": \"\", \"trace\": \"\", \"outcomeType\": 4}}, \"*\")"
      ],
      "text/plain": [
       "<IPython.core.display.Javascript object>"
      ]
     },
     "metadata": {},
     "output_type": "display_data"
    },
    {
     "data": {
      "text/markdown": [
       "<span style=\"color:#3366cc\">Hint:</span> In the tutorial, you did the same operation on a different column."
      ],
      "text/plain": [
       "Hint: In the tutorial, you did the same operation on a different column."
      ]
     },
     "metadata": {},
     "output_type": "display_data"
    },
    {
     "data": {
      "application/javascript": [
       "parent.postMessage({\"jupyterEvent\": \"custom.exercise_interaction\", \"data\": {\"interactionType\": 3, \"questionType\": 1, \"questionId\": \"2_TextProcessing\", \"learnToolsVersion\": \"0.3.4\", \"valueTowardsCompletion\": 0.0, \"failureMessage\": \"\", \"exceptionClass\": \"\", \"trace\": \"\", \"outcomeType\": 4}}, \"*\")"
      ],
      "text/plain": [
       "<IPython.core.display.Javascript object>"
      ]
     },
     "metadata": {},
     "output_type": "display_data"
    },
    {
     "data": {
      "text/markdown": [
       "<span style=\"color:#33cc99\">Solution:</span> \n",
       "```python\n",
       "professors['Graduated from'] = professors['Graduated from'].str.strip()\n",
       "\n",
       "```"
      ],
      "text/plain": [
       "Solution: \n",
       "```python\n",
       "professors['Graduated from'] = professors['Graduated from'].str.strip()\n",
       "\n",
       "```"
      ]
     },
     "metadata": {},
     "output_type": "display_data"
    }
   ],
   "source": [
    "# Lines below will give you a hint or solution code\n",
    "q2.hint()\n",
    "q2.solution()"
   ]
  },
  {
   "cell_type": "markdown",
   "id": "thick-delhi",
   "metadata": {
    "papermill": {
     "duration": 0.020167,
     "end_time": "2021-05-23T14:17:50.396088",
     "exception": false,
     "start_time": "2021-05-23T14:17:50.375921",
     "status": "completed"
    },
    "tags": []
   },
   "source": [
    "# 3) Continue working with countries\n",
    "\n",
    "In the tutorial, we focused on cleaning up inconsistencies in the \"Country\" column.  Run the code cell below to view the list of unique values that we ended with."
   ]
  },
  {
   "cell_type": "code",
   "execution_count": 9,
   "id": "appropriate-smell",
   "metadata": {
    "execution": {
     "iopub.execute_input": "2021-05-23T14:17:50.442831Z",
     "iopub.status.busy": "2021-05-23T14:17:50.441518Z",
     "iopub.status.idle": "2021-05-23T14:17:50.446092Z",
     "shell.execute_reply": "2021-05-23T14:17:50.446608Z",
     "shell.execute_reply.started": "2021-05-23T14:13:17.367315Z"
    },
    "papermill": {
     "duration": 0.030163,
     "end_time": "2021-05-23T14:17:50.446789",
     "exception": false,
     "start_time": "2021-05-23T14:17:50.416626",
     "status": "completed"
    },
    "tags": []
   },
   "outputs": [
    {
     "data": {
      "text/plain": [
       "array(['australia', 'austria', 'canada', 'china', 'finland', 'france',\n",
       "       'germany', 'greece', 'hongkong', 'ireland', 'italy', 'japan',\n",
       "       'macau', 'malaysia', 'mauritius', 'netherland', 'new zealand',\n",
       "       'norway', 'pakistan', 'portugal', 'russian federation',\n",
       "       'saudi arabia', 'scotland', 'singapore', 'south korea', 'spain',\n",
       "       'sweden', 'thailand', 'turkey', 'uk', 'urbana', 'usa', 'usofa'],\n",
       "      dtype=object)"
      ]
     },
     "execution_count": 9,
     "metadata": {},
     "output_type": "execute_result"
    }
   ],
   "source": [
    "# get all the unique values in the 'City' column\n",
    "countries = professors['Country'].unique()\n",
    "\n",
    "# sort them alphabetically and then take a closer look\n",
    "countries.sort()\n",
    "countries"
   ]
  },
  {
   "cell_type": "markdown",
   "id": "appreciated-bahamas",
   "metadata": {
    "papermill": {
     "duration": 0.020391,
     "end_time": "2021-05-23T14:17:50.488723",
     "exception": false,
     "start_time": "2021-05-23T14:17:50.468332",
     "status": "completed"
    },
    "tags": []
   },
   "source": [
    "Take another look at the \"Country\" column and see if there's any more data cleaning we need to do.\n",
    "\n",
    "It looks like 'usa' and 'usofa' should be the same country.  Correct the \"Country\" column in the dataframe so that 'usofa' appears instead as 'usa'.\n",
    "\n",
    "**Use the most recent version of the DataFrame (with the whitespaces at the beginning and end of cells removed) from question 2.**"
   ]
  },
  {
   "cell_type": "code",
   "execution_count": 10,
   "id": "contrary-ferry",
   "metadata": {
    "execution": {
     "iopub.execute_input": "2021-05-23T14:17:50.533239Z",
     "iopub.status.busy": "2021-05-23T14:17:50.532560Z",
     "iopub.status.idle": "2021-05-23T14:17:50.547161Z",
     "shell.execute_reply": "2021-05-23T14:17:50.547683Z",
     "shell.execute_reply.started": "2021-05-23T14:17:19.166361Z"
    },
    "papermill": {
     "duration": 0.03838,
     "end_time": "2021-05-23T14:17:50.547851",
     "exception": false,
     "start_time": "2021-05-23T14:17:50.509471",
     "status": "completed"
    },
    "tags": []
   },
   "outputs": [
    {
     "name": "stdout",
     "output_type": "stream",
     "text": [
      "All done!\n"
     ]
    },
    {
     "data": {
      "application/javascript": [
       "parent.postMessage({\"jupyterEvent\": \"custom.exercise_interaction\", \"data\": {\"outcomeType\": 1, \"valueTowardsCompletion\": 0.3333333333333333, \"interactionType\": 1, \"questionType\": 1, \"questionId\": \"3_WorkingWithCities\", \"learnToolsVersion\": \"0.3.4\", \"failureMessage\": \"\", \"exceptionClass\": \"\", \"trace\": \"\"}}, \"*\")"
      ],
      "text/plain": [
       "<IPython.core.display.Javascript object>"
      ]
     },
     "metadata": {},
     "output_type": "display_data"
    },
    {
     "data": {
      "text/markdown": [
       "<span style=\"color:#33cc33\">Correct</span>"
      ],
      "text/plain": [
       "Correct"
      ]
     },
     "metadata": {},
     "output_type": "display_data"
    }
   ],
   "source": [
    "# TODO: Your code here!\n",
    "\n",
    "matches = fuzzywuzzy.process.extract(\"usa\", countries, limit=10, scorer=fuzzywuzzy.fuzz.token_sort_ratio)\n",
    "replace_matches_in_column(df=professors, column='Country', string_to_match=\"usa\", min_ratio=70)\n",
    "# Check your answer\n",
    "q3.check()"
   ]
  },
  {
   "cell_type": "code",
   "execution_count": 11,
   "id": "appointed-pattern",
   "metadata": {
    "execution": {
     "iopub.execute_input": "2021-05-23T14:17:50.594960Z",
     "iopub.status.busy": "2021-05-23T14:17:50.594338Z",
     "iopub.status.idle": "2021-05-23T14:17:50.603912Z",
     "shell.execute_reply": "2021-05-23T14:17:50.603373Z",
     "shell.execute_reply.started": "2021-05-23T14:16:12.896538Z"
    },
    "papermill": {
     "duration": 0.034085,
     "end_time": "2021-05-23T14:17:50.604062",
     "exception": false,
     "start_time": "2021-05-23T14:17:50.569977",
     "status": "completed"
    },
    "tags": []
   },
   "outputs": [
    {
     "data": {
      "application/javascript": [
       "parent.postMessage({\"jupyterEvent\": \"custom.exercise_interaction\", \"data\": {\"interactionType\": 2, \"questionType\": 1, \"questionId\": \"3_WorkingWithCities\", \"learnToolsVersion\": \"0.3.4\", \"valueTowardsCompletion\": 0.0, \"failureMessage\": \"\", \"exceptionClass\": \"\", \"trace\": \"\", \"outcomeType\": 4}}, \"*\")"
      ],
      "text/plain": [
       "<IPython.core.display.Javascript object>"
      ]
     },
     "metadata": {},
     "output_type": "display_data"
    },
    {
     "data": {
      "text/markdown": [
       "<span style=\"color:#3366cc\">Hint:</span> Use the `replace_matches_in_column()` function defined above."
      ],
      "text/plain": [
       "Hint: Use the `replace_matches_in_column()` function defined above."
      ]
     },
     "metadata": {},
     "output_type": "display_data"
    },
    {
     "data": {
      "application/javascript": [
       "parent.postMessage({\"jupyterEvent\": \"custom.exercise_interaction\", \"data\": {\"interactionType\": 3, \"questionType\": 1, \"questionId\": \"3_WorkingWithCities\", \"learnToolsVersion\": \"0.3.4\", \"valueTowardsCompletion\": 0.0, \"failureMessage\": \"\", \"exceptionClass\": \"\", \"trace\": \"\", \"outcomeType\": 4}}, \"*\")"
      ],
      "text/plain": [
       "<IPython.core.display.Javascript object>"
      ]
     },
     "metadata": {},
     "output_type": "display_data"
    },
    {
     "data": {
      "text/markdown": [
       "<span style=\"color:#33cc99\">Solution:</span> \n",
       "```python\n",
       "matches = fuzzywuzzy.process.extract(\"usa\", countries, limit=10, scorer=fuzzywuzzy.fuzz.token_sort_ratio)\n",
       "replace_matches_in_column(df=professors, column='Country', string_to_match=\"usa\", min_ratio=70)\n",
       "\n",
       "```"
      ],
      "text/plain": [
       "Solution: \n",
       "```python\n",
       "matches = fuzzywuzzy.process.extract(\"usa\", countries, limit=10, scorer=fuzzywuzzy.fuzz.token_sort_ratio)\n",
       "replace_matches_in_column(df=professors, column='Country', string_to_match=\"usa\", min_ratio=70)\n",
       "\n",
       "```"
      ]
     },
     "metadata": {},
     "output_type": "display_data"
    }
   ],
   "source": [
    "# Lines below will give you a hint or solution code\n",
    "q3.hint()\n",
    "q3.solution()"
   ]
  },
  {
   "cell_type": "markdown",
   "id": "brilliant-imperial",
   "metadata": {
    "papermill": {
     "duration": 0.023815,
     "end_time": "2021-05-23T14:17:50.652040",
     "exception": false,
     "start_time": "2021-05-23T14:17:50.628225",
     "status": "completed"
    },
    "tags": []
   },
   "source": [
    "# Congratulations!\n",
    "\n",
    "Congratulations for completing the **Data Cleaning** course on Kaggle Learn!\n",
    "\n",
    "To practice your new skills, you're encouraged to download and investigate some of [Kaggle's Datasets](https://www.kaggle.com/datasets)."
   ]
  },
  {
   "cell_type": "markdown",
   "id": "powerful-commerce",
   "metadata": {
    "papermill": {
     "duration": 0.023728,
     "end_time": "2021-05-23T14:17:50.699985",
     "exception": false,
     "start_time": "2021-05-23T14:17:50.676257",
     "status": "completed"
    },
    "tags": []
   },
   "source": [
    "---\n",
    "\n",
    "\n",
    "\n",
    "\n",
    "*Have questions or comments? Visit the [Learn Discussion forum](https://www.kaggle.com/learn-forum/172650) to chat with other Learners.*"
   ]
  }
 ],
 "metadata": {
  "kernelspec": {
   "display_name": "Python 3",
   "language": "python",
   "name": "python3"
  },
  "language_info": {
   "codemirror_mode": {
    "name": "ipython",
    "version": 3
   },
   "file_extension": ".py",
   "mimetype": "text/x-python",
   "name": "python",
   "nbconvert_exporter": "python",
   "pygments_lexer": "ipython3",
   "version": "3.7.9"
  },
  "papermill": {
   "default_parameters": {},
   "duration": 8.016481,
   "end_time": "2021-05-23T14:17:51.334081",
   "environment_variables": {},
   "exception": null,
   "input_path": "__notebook__.ipynb",
   "output_path": "__notebook__.ipynb",
   "parameters": {},
   "start_time": "2021-05-23T14:17:43.317600",
   "version": "2.3.2"
  }
 },
 "nbformat": 4,
 "nbformat_minor": 5
}
